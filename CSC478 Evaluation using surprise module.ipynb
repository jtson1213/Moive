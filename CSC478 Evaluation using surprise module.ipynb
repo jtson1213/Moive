{
 "cells": [
  {
   "cell_type": "markdown",
   "metadata": {},
   "source": [
    "### CSC478 Final Project: MovieLens\n",
    "### Jun Tae Son |  Yuchen Wu | Tzu Hao Peng"
   ]
  },
  {
   "cell_type": "code",
   "execution_count": 19,
   "metadata": {
    "collapsed": true
   },
   "outputs": [],
   "source": [
    "import os\n",
    "import numpy as np\n",
    "from surprise import NormalPredictor, BaselineOnly,KNNBasic,KNNWithMeans,KNNBaseline,SVD,SVDpp,NMF,SlopeOne,CoClustering\n",
    "from surprise import evaluate, print_perf\n",
    "from surprise import Reader, Dataset\n",
    "\n",
    "\n",
    "# change the directory\n",
    "os.chdir('C:\\\\Users\\\\rkfql\\\\Desktop\\\\Movielens-02')"
   ]
  },
  {
   "cell_type": "code",
   "execution_count": 2,
   "metadata": {
    "collapsed": true
   },
   "outputs": [],
   "source": [
    "# Load data\n",
    "# and split it into 3 folds for cross-validation.\n",
    "reader = Reader(line_format='user item rating timestamp', sep='\\t')\n",
    "data = Dataset.load_from_file('u.data', reader=reader)\n",
    "data.split(n_folds=3)"
   ]
  },
  {
   "cell_type": "code",
   "execution_count": 11,
   "metadata": {},
   "outputs": [
    {
     "name": "stdout",
     "output_type": "stream",
     "text": [
      "Evaluating RMSE, MAE of algorithm NormalPredictor.\n",
      "\n",
      "------------\n",
      "Fold 1\n",
      "RMSE: 1.5136\n",
      "MAE:  1.2182\n",
      "------------\n",
      "Fold 2\n",
      "RMSE: 1.5179\n",
      "MAE:  1.2165\n",
      "------------\n",
      "Fold 3\n",
      "RMSE: 1.5190\n",
      "MAE:  1.2151\n",
      "------------\n",
      "Fold 4\n",
      "RMSE: 1.5246\n",
      "MAE:  1.2260\n",
      "------------\n",
      "Fold 5\n",
      "RMSE: 1.5152\n",
      "MAE:  1.2142\n",
      "------------\n",
      "------------\n",
      "Mean RMSE: 1.5181\n",
      "Mean MAE : 1.2180\n",
      "------------\n",
      "------------\n",
      "        Fold 1  Fold 2  Fold 3  Fold 4  Fold 5  Mean    \n",
      "RMSE    1.5136  1.5179  1.5190  1.5246  1.5152  1.5181  \n",
      "MAE     1.2182  1.2165  1.2151  1.2260  1.2142  1.2180  \n"
     ]
    }
   ],
   "source": [
    "# We'll use the famous NormalPredictor algorithm.\n",
    "algo = NormalPredictor()\n",
    "\n",
    "# Evaluate performances of our algorithm on the dataset.\n",
    "perf = evaluate(algo, data, measures=['RMSE', 'MAE'])\n",
    "\n",
    "print_perf(perf)"
   ]
  },
  {
   "cell_type": "code",
   "execution_count": 12,
   "metadata": {},
   "outputs": [
    {
     "name": "stdout",
     "output_type": "stream",
     "text": [
      "Evaluating RMSE, MAE of algorithm BaselineOnly.\n",
      "\n",
      "------------\n",
      "Fold 1\n",
      "Estimating biases using als...\n",
      "RMSE: 0.9442\n",
      "MAE:  0.7480\n",
      "------------\n",
      "Fold 2\n",
      "Estimating biases using als...\n",
      "RMSE: 0.9461\n",
      "MAE:  0.7500\n",
      "------------\n",
      "Fold 3\n",
      "Estimating biases using als...\n",
      "RMSE: 0.9397\n",
      "MAE:  0.7464\n",
      "------------\n",
      "Fold 4\n",
      "Estimating biases using als...\n",
      "RMSE: 0.9457\n",
      "MAE:  0.7487\n",
      "------------\n",
      "Fold 5\n",
      "Estimating biases using als...\n",
      "RMSE: 0.9446\n",
      "MAE:  0.7490\n",
      "------------\n",
      "------------\n",
      "Mean RMSE: 0.9441\n",
      "Mean MAE : 0.7484\n",
      "------------\n",
      "------------\n",
      "        Fold 1  Fold 2  Fold 3  Fold 4  Fold 5  Mean    \n",
      "RMSE    0.9442  0.9461  0.9397  0.9457  0.9446  0.9441  \n",
      "MAE     0.7480  0.7500  0.7464  0.7487  0.7490  0.7484  \n"
     ]
    }
   ],
   "source": [
    "# We'll use the famous BaselineOnly algorithm.\n",
    "algo = BaselineOnly()\n",
    "\n",
    "# Evaluate performances of our algorithm on the dataset.\n",
    "perf = evaluate(algo, data, measures=['RMSE', 'MAE'])\n",
    "\n",
    "print_perf(perf)"
   ]
  },
  {
   "cell_type": "code",
   "execution_count": 13,
   "metadata": {},
   "outputs": [
    {
     "name": "stdout",
     "output_type": "stream",
     "text": [
      "Evaluating RMSE, MAE of algorithm KNNBasic.\n",
      "\n",
      "------------\n",
      "Fold 1\n",
      "Computing the msd similarity matrix...\n",
      "Done computing similarity matrix.\n",
      "RMSE: 0.9834\n",
      "MAE:  0.7752\n",
      "------------\n",
      "Fold 2\n",
      "Computing the msd similarity matrix...\n",
      "Done computing similarity matrix.\n",
      "RMSE: 0.9808\n",
      "MAE:  0.7746\n",
      "------------\n",
      "Fold 3\n",
      "Computing the msd similarity matrix...\n",
      "Done computing similarity matrix.\n",
      "RMSE: 0.9707\n",
      "MAE:  0.7673\n",
      "------------\n",
      "Fold 4\n",
      "Computing the msd similarity matrix...\n",
      "Done computing similarity matrix.\n",
      "RMSE: 0.9799\n",
      "MAE:  0.7736\n",
      "------------\n",
      "Fold 5\n",
      "Computing the msd similarity matrix...\n",
      "Done computing similarity matrix.\n",
      "RMSE: 0.9777\n",
      "MAE:  0.7718\n",
      "------------\n",
      "------------\n",
      "Mean RMSE: 0.9785\n",
      "Mean MAE : 0.7725\n",
      "------------\n",
      "------------\n",
      "        Fold 1  Fold 2  Fold 3  Fold 4  Fold 5  Mean    \n",
      "RMSE    0.9834  0.9808  0.9707  0.9799  0.9777  0.9785  \n",
      "MAE     0.7752  0.7746  0.7673  0.7736  0.7718  0.7725  \n"
     ]
    }
   ],
   "source": [
    "# We'll use the famous KNNBasic algorithm.\n",
    "algo = KNNBasic()\n",
    "\n",
    "# Evaluate performances of our algorithm on the dataset.\n",
    "perf = evaluate(algo, data, measures=['RMSE', 'MAE'])\n",
    "\n",
    "print_perf(perf)"
   ]
  },
  {
   "cell_type": "code",
   "execution_count": 14,
   "metadata": {},
   "outputs": [
    {
     "name": "stdout",
     "output_type": "stream",
     "text": [
      "Evaluating RMSE, MAE of algorithm KNNWithMeans.\n",
      "\n",
      "------------\n",
      "Fold 1\n",
      "Computing the msd similarity matrix...\n",
      "Done computing similarity matrix.\n",
      "RMSE: 0.9481\n",
      "MAE:  0.7466\n",
      "------------\n",
      "Fold 2\n",
      "Computing the msd similarity matrix...\n",
      "Done computing similarity matrix.\n",
      "RMSE: 0.9523\n",
      "MAE:  0.7509\n",
      "------------\n",
      "Fold 3\n",
      "Computing the msd similarity matrix...\n",
      "Done computing similarity matrix.\n",
      "RMSE: 0.9476\n",
      "MAE:  0.7478\n",
      "------------\n",
      "Fold 4\n",
      "Computing the msd similarity matrix...\n",
      "Done computing similarity matrix.\n",
      "RMSE: 0.9508\n",
      "MAE:  0.7476\n",
      "------------\n",
      "Fold 5\n",
      "Computing the msd similarity matrix...\n",
      "Done computing similarity matrix.\n",
      "RMSE: 0.9537\n",
      "MAE:  0.7515\n",
      "------------\n",
      "------------\n",
      "Mean RMSE: 0.9505\n",
      "Mean MAE : 0.7489\n",
      "------------\n",
      "------------\n",
      "        Fold 1  Fold 2  Fold 3  Fold 4  Fold 5  Mean    \n",
      "RMSE    0.9481  0.9523  0.9476  0.9508  0.9537  0.9505  \n",
      "MAE     0.7466  0.7509  0.7478  0.7476  0.7515  0.7489  \n"
     ]
    }
   ],
   "source": [
    "# We'll use the famous KNNWithMeans algorithm.\n",
    "algo = KNNWithMeans()\n",
    "\n",
    "# Evaluate performances of our algorithm on the dataset.\n",
    "perf = evaluate(algo, data, measures=['RMSE', 'MAE'])\n",
    "\n",
    "print_perf(perf)"
   ]
  },
  {
   "cell_type": "code",
   "execution_count": 15,
   "metadata": {},
   "outputs": [
    {
     "name": "stdout",
     "output_type": "stream",
     "text": [
      "Evaluating RMSE, MAE of algorithm KNNBaseline.\n",
      "\n",
      "------------\n",
      "Fold 1\n",
      "Estimating biases using als...\n",
      "Computing the msd similarity matrix...\n",
      "Done computing similarity matrix.\n",
      "RMSE: 0.9304\n",
      "MAE:  0.7318\n",
      "------------\n",
      "Fold 2\n",
      "Estimating biases using als...\n",
      "Computing the msd similarity matrix...\n",
      "Done computing similarity matrix.\n",
      "RMSE: 0.9316\n",
      "MAE:  0.7341\n",
      "------------\n",
      "Fold 3\n",
      "Estimating biases using als...\n",
      "Computing the msd similarity matrix...\n",
      "Done computing similarity matrix.\n",
      "RMSE: 0.9257\n",
      "MAE:  0.7302\n",
      "------------\n",
      "Fold 4\n",
      "Estimating biases using als...\n",
      "Computing the msd similarity matrix...\n",
      "Done computing similarity matrix.\n",
      "RMSE: 0.9312\n",
      "MAE:  0.7328\n",
      "------------\n",
      "Fold 5\n",
      "Estimating biases using als...\n",
      "Computing the msd similarity matrix...\n",
      "Done computing similarity matrix.\n",
      "RMSE: 0.9313\n",
      "MAE:  0.7341\n",
      "------------\n",
      "------------\n",
      "Mean RMSE: 0.9300\n",
      "Mean MAE : 0.7326\n",
      "------------\n",
      "------------\n",
      "        Fold 1  Fold 2  Fold 3  Fold 4  Fold 5  Mean    \n",
      "RMSE    0.9304  0.9316  0.9257  0.9312  0.9313  0.9300  \n",
      "MAE     0.7318  0.7341  0.7302  0.7328  0.7341  0.7326  \n"
     ]
    }
   ],
   "source": [
    "# We'll use the famous KNNBaseline algorithm.\n",
    "algo = KNNBaseline()\n",
    "\n",
    "# Evaluate performances of our algorithm on the dataset.\n",
    "perf = evaluate(algo, data, measures=['RMSE', 'MAE'])\n",
    "\n",
    "print_perf(perf)"
   ]
  },
  {
   "cell_type": "code",
   "execution_count": 3,
   "metadata": {},
   "outputs": [
    {
     "name": "stdout",
     "output_type": "stream",
     "text": [
      "Evaluating RMSE, MAE of algorithm SVD.\n",
      "\n",
      "------------\n",
      "Fold 1\n",
      "RMSE: 0.9323\n",
      "MAE:  0.7342\n",
      "------------\n",
      "Fold 2\n",
      "RMSE: 0.9397\n",
      "MAE:  0.7412\n",
      "------------\n",
      "Fold 3\n",
      "RMSE: 0.9316\n",
      "MAE:  0.7354\n",
      "------------\n",
      "Fold 4\n",
      "RMSE: 0.9408\n",
      "MAE:  0.7399\n",
      "------------\n",
      "Fold 5\n",
      "RMSE: 0.9393\n",
      "MAE:  0.7388\n",
      "------------\n",
      "------------\n",
      "Mean RMSE: 0.9367\n",
      "Mean MAE : 0.7379\n",
      "------------\n",
      "------------\n",
      "        Fold 1  Fold 2  Fold 3  Fold 4  Fold 5  Mean    \n",
      "RMSE    0.9323  0.9397  0.9316  0.9408  0.9393  0.9367  \n",
      "MAE     0.7342  0.7412  0.7354  0.7399  0.7388  0.7379  \n"
     ]
    }
   ],
   "source": [
    "# We'll use the famous SVD algorithm.\n",
    "algo = SVD()\n",
    "\n",
    "# Evaluate performances of our algorithm on the dataset.\n",
    "perf = evaluate(algo, data, measures=['RMSE', 'MAE'])\n",
    "\n",
    "print_perf(perf)"
   ]
  },
  {
   "cell_type": "code",
   "execution_count": 20,
   "metadata": {},
   "outputs": [
    {
     "name": "stdout",
     "output_type": "stream",
     "text": [
      "Evaluating RMSE, MAE of algorithm SVDpp.\n",
      "\n",
      "------------\n",
      "Fold 1\n",
      "RMSE: 0.9171\n",
      "MAE:  0.7191\n",
      "------------\n",
      "Fold 2\n",
      "RMSE: 0.9251\n",
      "MAE:  0.7256\n",
      "------------\n",
      "Fold 3\n",
      "RMSE: 0.9113\n",
      "MAE:  0.7155\n",
      "------------\n",
      "Fold 4\n",
      "RMSE: 0.9207\n",
      "MAE:  0.7214\n",
      "------------\n",
      "Fold 5\n",
      "RMSE: 0.9205\n",
      "MAE:  0.7210\n",
      "------------\n",
      "------------\n",
      "Mean RMSE: 0.9189\n",
      "Mean MAE : 0.7205\n",
      "------------\n",
      "------------\n",
      "        Fold 1  Fold 2  Fold 3  Fold 4  Fold 5  Mean    \n",
      "RMSE    0.9171  0.9251  0.9113  0.9207  0.9205  0.9189  \n",
      "MAE     0.7191  0.7256  0.7155  0.7214  0.7210  0.7205  \n"
     ]
    }
   ],
   "source": [
    "# We'll use the famous SVDpp algorithm.\n",
    "algo = SVDpp()\n",
    "\n",
    "# Evaluate performances of our algorithm on the dataset.\n",
    "perf = evaluate(algo, data, measures=['RMSE', 'MAE'])\n",
    "\n",
    "print_perf(perf)"
   ]
  },
  {
   "cell_type": "code",
   "execution_count": 16,
   "metadata": {},
   "outputs": [
    {
     "name": "stdout",
     "output_type": "stream",
     "text": [
      "Evaluating RMSE, MAE of algorithm NMF.\n",
      "\n",
      "------------\n",
      "Fold 1\n",
      "RMSE: 0.9625\n",
      "MAE:  0.7561\n",
      "------------\n",
      "Fold 2\n",
      "RMSE: 0.9677\n",
      "MAE:  0.7609\n",
      "------------\n",
      "Fold 3\n",
      "RMSE: 0.9599\n",
      "MAE:  0.7547\n",
      "------------\n",
      "Fold 4\n",
      "RMSE: 0.9619\n",
      "MAE:  0.7541\n",
      "------------\n",
      "Fold 5\n",
      "RMSE: 0.9608\n",
      "MAE:  0.7543\n",
      "------------\n",
      "------------\n",
      "Mean RMSE: 0.9626\n",
      "Mean MAE : 0.7560\n",
      "------------\n",
      "------------\n",
      "        Fold 1  Fold 2  Fold 3  Fold 4  Fold 5  Mean    \n",
      "RMSE    0.9625  0.9677  0.9599  0.9619  0.9608  0.9626  \n",
      "MAE     0.7561  0.7609  0.7547  0.7541  0.7543  0.7560  \n"
     ]
    }
   ],
   "source": [
    "# We'll use the famous NMF algorithm.\n",
    "algo = NMF()\n",
    "\n",
    "# Evaluate performances of our algorithm on the dataset.\n",
    "perf = evaluate(algo, data, measures=['RMSE', 'MAE'])\n",
    "\n",
    "print_perf(perf)"
   ]
  },
  {
   "cell_type": "code",
   "execution_count": 17,
   "metadata": {},
   "outputs": [
    {
     "name": "stdout",
     "output_type": "stream",
     "text": [
      "Evaluating RMSE, MAE of algorithm SlopeOne.\n",
      "\n",
      "------------\n",
      "Fold 1\n",
      "RMSE: 0.9448\n",
      "MAE:  0.7419\n",
      "------------\n",
      "Fold 2\n",
      "RMSE: 0.9470\n",
      "MAE:  0.7445\n",
      "------------\n",
      "Fold 3\n",
      "RMSE: 0.9420\n",
      "MAE:  0.7407\n",
      "------------\n",
      "Fold 4\n",
      "RMSE: 0.9469\n",
      "MAE:  0.7437\n",
      "------------\n",
      "Fold 5\n",
      "RMSE: 0.9428\n",
      "MAE:  0.7425\n",
      "------------\n",
      "------------\n",
      "Mean RMSE: 0.9447\n",
      "Mean MAE : 0.7427\n",
      "------------\n",
      "------------\n",
      "        Fold 1  Fold 2  Fold 3  Fold 4  Fold 5  Mean    \n",
      "RMSE    0.9448  0.9470  0.9420  0.9469  0.9428  0.9447  \n",
      "MAE     0.7419  0.7445  0.7407  0.7437  0.7425  0.7427  \n"
     ]
    }
   ],
   "source": [
    "# We'll use the famous SlopeOne algorithm.\n",
    "algo = SlopeOne()\n",
    "\n",
    "# Evaluate performances of our algorithm on the dataset.\n",
    "perf = evaluate(algo, data, measures=['RMSE', 'MAE'])\n",
    "\n",
    "print_perf(perf)"
   ]
  },
  {
   "cell_type": "code",
   "execution_count": 18,
   "metadata": {},
   "outputs": [
    {
     "name": "stdout",
     "output_type": "stream",
     "text": [
      "Evaluating RMSE, MAE of algorithm CoClustering.\n",
      "\n",
      "------------\n",
      "Fold 1\n",
      "RMSE: 0.9568\n",
      "MAE:  0.7477\n",
      "------------\n",
      "Fold 2\n",
      "RMSE: 0.9679\n",
      "MAE:  0.7568\n",
      "------------\n",
      "Fold 3\n",
      "RMSE: 0.9747\n",
      "MAE:  0.7659\n",
      "------------\n",
      "Fold 4\n",
      "RMSE: 0.9647\n",
      "MAE:  0.7544\n",
      "------------\n",
      "Fold 5\n",
      "RMSE: 0.9671\n",
      "MAE:  0.7586\n",
      "------------\n",
      "------------\n",
      "Mean RMSE: 0.9663\n",
      "Mean MAE : 0.7567\n",
      "------------\n",
      "------------\n",
      "        Fold 1  Fold 2  Fold 3  Fold 4  Fold 5  Mean    \n",
      "RMSE    0.9568  0.9679  0.9747  0.9647  0.9671  0.9663  \n",
      "MAE     0.7477  0.7568  0.7659  0.7544  0.7586  0.7567  \n"
     ]
    }
   ],
   "source": [
    "# We'll use the famous CoClustering algorithm.\n",
    "algo = CoClustering()\n",
    "\n",
    "# Evaluate performances of our algorithm on the dataset.\n",
    "perf = evaluate(algo, data, measures=['RMSE', 'MAE'])\n",
    "\n",
    "print_perf(perf)"
   ]
  },
  {
   "cell_type": "code",
   "execution_count": null,
   "metadata": {
    "collapsed": true
   },
   "outputs": [],
   "source": []
  }
 ],
 "metadata": {
  "kernelspec": {
   "display_name": "Python 3",
   "language": "python",
   "name": "python3"
  },
  "language_info": {
   "codemirror_mode": {
    "name": "ipython",
    "version": 3
   },
   "file_extension": ".py",
   "mimetype": "text/x-python",
   "name": "python",
   "nbconvert_exporter": "python",
   "pygments_lexer": "ipython3",
   "version": "3.6.2"
  }
 },
 "nbformat": 4,
 "nbformat_minor": 2
}
